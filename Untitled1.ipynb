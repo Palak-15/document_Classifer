{
 "cells": [
  {
   "cell_type": "code",
   "execution_count": 1,
   "metadata": {},
   "outputs": [],
   "source": [
    "import PyPDF2\n",
    "from glob import glob\n",
    "import string \n",
    "from gensim.parsing.preprocessing import remove_stopwords\n",
    "from gensim.parsing.porter import PorterStemmer\n",
    "from sklearn.feature_extraction.text import TfidfVectorizer\n",
    "import re\n",
    "import numpy as np\n",
    "from sklearn.metrics import accuracy_score, log_loss\n",
    "from sklearn.neighbors import KNeighborsClassifier\n",
    "from sklearn.svm import SVC, LinearSVC, NuSVC\n",
    "from sklearn.tree import DecisionTreeClassifier\n",
    "from sklearn.ensemble import RandomForestClassifier, AdaBoostClassifier, GradientBoostingClassifier\n",
    "from sklearn.naive_bayes import GaussianNB\n",
    "from sklearn.discriminant_analysis import LinearDiscriminantAnalysis\n",
    "from sklearn.discriminant_analysis import QuadraticDiscriminantAnalysis\n",
    "import pickle as pkl\n",
    "from sklearn.linear_model import LogisticRegression\n",
    "from sklearn.neural_network import MLPClassifier\n",
    "from sklearn.model_selection import train_test_split\n",
    "\n",
    "from sklearn.preprocessing import LabelEncoder\n",
    "# from keras.preprocessing.text import text_to_word_sequence\n",
    "\n",
    "# import nltk \n",
    "# nltk.download('stopwords')\n",
    "# from nltk.tokenize import word_tokenize\n",
    "\n"
   ]
  },
  {
   "cell_type": "code",
   "execution_count": 2,
   "metadata": {},
   "outputs": [],
   "source": [
    "LabelEnc = LabelEncoder()"
   ]
  },
  {
   "cell_type": "code",
   "execution_count": 3,
   "metadata": {},
   "outputs": [],
   "source": [
    "files = glob(\"PDFs Paninian/*/*\")"
   ]
  },
  {
   "cell_type": "code",
   "execution_count": 4,
   "metadata": {
    "scrolled": true
   },
   "outputs": [
    {
     "data": {
      "text/plain": [
       "['PDFs Paninian/Thromboembolic/bmj.j4323.full.pdf',\n",
       " 'PDFs Paninian/Thromboembolic/bmj.e4944.full.pdf',\n",
       " 'PDFs Paninian/Thromboembolic/bmj.i5968.full.pdf',\n",
       " 'PDFs Paninian/Thromboembolic/bmj.l4363.full.pdf',\n",
       " 'PDFs Paninian/Thromboembolic/bmj.i6253.full.pdf',\n",
       " 'PDFs Paninian/Hypertension/Impact of 2017 ACC:AHA guidelines on prevalence of hypertension and eligibility for antihypertensive treatment in United States and China-BMJ-Research-Page1.pdf',\n",
       " 'PDFs Paninian/Hypertension/Prospective external validation of the Predicting Out-of-OFfice Blood Pressure (PROOF-BP) strategy for triaging ambulatory monitoring in the diagnosis and management of hypertension- observational cohort study-BMJ-Research-Page1.pdf',\n",
       " 'PDFs Paninian/Hypertension/Impact of community based screening for hypertension on blood pressure after two years- regression discontinuity analysis in a national cohort of older adults in China-BMJ-Research-Page1.pdf',\n",
       " 'PDFs Paninian/Hypertension/Dairy consumption, systolic blood pressure, and risk of hypertension- Mendelian randomization study-BMJ-Research-Page1.pdf',\n",
       " 'PDFs Paninian/Hypertension/Heritability and risks associated with early onset hypertension- multigenerational, prospective analysis in the Framingham Heart Study-BMJ-Research-Page1.pdf',\n",
       " 'PDFs Paninian/Myopericarditis/605.1.full.pdf',\n",
       " 'PDFs Paninian/Myopericarditis/197.1.full.pdf',\n",
       " 'PDFs Paninian/Myopericarditis/544.full.pdf',\n",
       " 'PDFs Paninian/Myopericarditis/556.2.full.pdf',\n",
       " 'PDFs Paninian/Myopericarditis/197.2.full.pdf',\n",
       " 'PDFs Paninian/MRI scan/Prevalence and outcomes of incidental imaging findings- umbrella review-BMJ-Research-Page1.pdf',\n",
       " 'PDFs Paninian/MRI scan/bmj.e5339.full.pdf',\n",
       " 'PDFs Paninian/MRI scan/Usefulness of data from magnetic resonance imaging to improve prediction of dementia- population based cohort study-BMJ-Research-Page1.pdf',\n",
       " 'PDFs Paninian/MRI scan/Potentially serious incidental findings on brain and body magnetic resonance imaging of apparently asymptomatic adults- systematic review and meta-analysis-BMJ-Research-Page1.pdf',\n",
       " 'PDFs Paninian/MRI scan/Diagnostic yield and accuracy of CT angiography, MR angiography, and digital subtraction angiography for detection of macrovascular causes of intracerebral haemorrhage- prospective, multicentre cohort study-BMJ-Research-Page1.pdf',\n",
       " 'PDFs Paninian/Thrombosis/bmj.e2990.full.pdf',\n",
       " 'PDFs Paninian/Thrombosis/bmj.j1065.full.pdf',\n",
       " 'PDFs Paninian/Thrombosis/674.full.pdf',\n",
       " 'PDFs Paninian/Thrombosis/bmj.m2058.full.pdf',\n",
       " 'PDFs Paninian/Thrombosis/bmj.e2635.full.pdf',\n",
       " 'PDFs Paninian/Stroke/Non-alcoholic fatty liver disease and risk of incident acute myocardial infarction and stroke- findings from matched cohort study of 18 million European adults-BMJ-Research-Page1.pdf',\n",
       " 'PDFs Paninian/Stroke/Ticagrelor plus aspirin versus clopidogrel plus aspirin for platelet reactivity in patients with minor stroke or transient ischaemic attack- open label, blinded endpoint, randomised controlled phase II trial-BMJ-Research-Page1.pdf',\n",
       " 'PDFs Paninian/Stroke/Determinants of the decline in mortality from acute stroke in England- linked national database study of 795869 adults-BMJ-Research-Page1.pdf',\n",
       " 'PDFs Paninian/Stroke/Risks of ischaemic heart disease and stroke in meat eaters, fish eaters, and vegetarians over 18 years of follow-up- results from the prospective EPIC-Oxford study-BMJ-Research-Page1.pdf',\n",
       " 'PDFs Paninian/Stroke/Impact and sustainability of centralising acute stroke services in English metropolitan areas- retrospective analysis of hospital episode statistics and stroke national audit data-BMJ-Research-Page1.pdf',\n",
       " 'PDFs Paninian/Cardiomyopathy/Idiopathic dilated cardiomyopathy-BMJ-Research-Page1.pdf',\n",
       " 'PDFs Paninian/Cardiomyopathy/Idiopathic Cardiomyopathy in Infants-BMJ-Research-Page1.pdf',\n",
       " 'PDFs Paninian/Cardiomyopathy/Screening for hypertrophic cardiomyopathy-BMJ-Research-Page1.pdf',\n",
       " 'PDFs Paninian/Cardiomyopathy/Arrhythmia in hypertrophic cardiomyopathy-BMJ-Research-Page1.pdf',\n",
       " 'PDFs Paninian/Cardiomyopathy/Cardiomyopathy and Pregnancy-BMJ-Research-Page1.pdf',\n",
       " 'PDFs Paninian/Ultrasound/Low intensity pulsed ultrasound for bone healing- systematic review of randomized controlled trials-BMJ-page1.pdf',\n",
       " 'PDFs Paninian/Ultrasound/Ultrasound in management of rheumatoid arthritis- ARCTIC randomised controlled strategy trial-BMJ-page2.pdf',\n",
       " 'PDFs Paninian/Ultrasound/Ultrasound imaging for lumbar punctures and epidural catheterisations- systematic review and meta-analysis-BMJ-page2.pdf',\n",
       " 'PDFs Paninian/Ultrasound/Re-evaluation of low intensity pulsed ultrasound in treatment of tibial fractures (TRUST)- randomized clinical trial-BMJ-page1.pdf',\n",
       " 'PDFs Paninian/Ultrasound/bmj.j656.full.pdf',\n",
       " 'PDFs Paninian/CT Scan/Clinical features and neuroimaging (CT and MRI) findings in presumed Zika virus related congenital infection and microcephaly- retrospective case series study-BMJ-Research-Page1.pdf',\n",
       " 'PDFs Paninian/CT Scan/Use of 3×2 tables with an intention to diagnose approach to assess clinical performance of diagnostic tests- meta-analytical evaluation of coronary CT angiography studies-BMJ-Research-Page1.pdf',\n",
       " 'PDFs Paninian/CT Scan/Diagnostic yield and accuracy of CT angiography, MR angiography, and digital subtraction angiography for detection of macrovascular causes of intracerebral haemorrhage- prospective, multicentre cohort study-BMJ-Research-Page1.pdf',\n",
       " 'PDFs Paninian/CT Scan/Who needs a CT brain scan?-BMJ-Research-Page1.pdf',\n",
       " 'PDFs Paninian/CT Scan/International variation in radiation dose for computed tomography examinations- prospective cohort study-BMJ-Research-Page1.pdf',\n",
       " 'PDFs Paninian/ACE2/escardio.org-The controversial indications for ACE-Inhibitors in valvular heart disease.pdf',\n",
       " 'PDFs Paninian/ACE2/bmj.m1443.full.pdf',\n",
       " 'PDFs Paninian/ACE2/escardio.org-ACE-Inhibitors and new-onset diabetes.pdf',\n",
       " 'PDFs Paninian/ACE2/escardio.org-Treatment of stable angina pectoris focus on the role of calcium antagonists and ACE inhibitors.pdf',\n",
       " 'PDFs Paninian/ACE2/674.full.pdf',\n",
       " 'PDFs Paninian/Myocarditis/Acute myocarditis and its sequelae-BMJ-Page-1.pdf',\n",
       " 'PDFs Paninian/Myocarditis/Toxic myocarditis in paracetamol poisoning-BMJ-Page-1.pdf',\n",
       " 'PDFs Paninian/Myocarditis/Postinfectious myocarditis-BMJ-Page-1.pdf',\n",
       " 'PDFs Paninian/Myocarditis/Toxoplasmosis and myocarditis-BMJ-Page-1.pdf',\n",
       " 'PDFs Paninian/Myocarditis/Dilated cardiomyopathy, myocarditis, and the bioptome-BMJ-Page-1.pdf']"
      ]
     },
     "execution_count": 4,
     "metadata": {},
     "output_type": "execute_result"
    }
   ],
   "source": [
    "files "
   ]
  },
  {
   "cell_type": "code",
   "execution_count": 5,
   "metadata": {},
   "outputs": [],
   "source": [
    "categories= ['Myocarditis','ACE2','CT Scan','Ultrasound','Cardiomyopathy','Stroke','Thrombosis','MRI scan','Myopericarditis','Hypertension','Thromboembolic']"
   ]
  },
  {
   "cell_type": "code",
   "execution_count": 6,
   "metadata": {},
   "outputs": [],
   "source": [
    "label_valp = []\n",
    "for i in range(len(files)):\n",
    "    label_valp.append(files[i].split(\"/\")[1])"
   ]
  },
  {
   "cell_type": "code",
   "execution_count": 7,
   "metadata": {},
   "outputs": [],
   "source": [
    "le = LabelEnc.fit(categories)"
   ]
  },
  {
   "cell_type": "code",
   "execution_count": 8,
   "metadata": {},
   "outputs": [],
   "source": [
    "labels = le.transform(label_valp)"
   ]
  },
  {
   "cell_type": "code",
   "execution_count": 9,
   "metadata": {},
   "outputs": [
    {
     "name": "stderr",
     "output_type": "stream",
     "text": [
      "PdfReadWarning: Xref table not zero-indexed. ID numbers for objects will be corrected. [pdf.py:1736]\n"
     ]
    }
   ],
   "source": [
    "final_data = []\n",
    "for i in range(len(files)):\n",
    "    data_vec = ''\n",
    "#     print(files[i])\n",
    "    pdf_obj = open(files[i],'rb')\n",
    "    pdf_reader = PyPDF2.PdfFileReader(pdf_obj)\n",
    "    num = pdf_reader.numPages\n",
    "#     print(\"NO OF PAGES::\", num)\n",
    "    for i in range(num-1):\n",
    "        page_obj = pdf_reader.getPage(i)\n",
    "        data = page_obj.extractText()\n",
    "#         print(i,\"      \",data)\n",
    "        data_vec+=(\" \"+data)\n",
    "    pdf_obj.close()\n",
    "    \n",
    "    # LOWER CASE THE DATA\n",
    "    data_vec = data_vec.lower()\n",
    "    \n",
    "    # REMOVE PUNCTUATIONS \n",
    "    table = str.maketrans(\"\",\"\", string.punctuation)\n",
    "    data_vec = data_vec.translate(table)\n",
    "    \n",
    "    # REMOVE NON ALPHA CHAR\n",
    "    data_vec = re.sub('[^a-z0-9 ]',' ',data_vec)\n",
    "    \n",
    "    # REMOVE STOPWORDS\n",
    "    words = remove_stopwords(data_vec)\n",
    "    final_data.append(words)\n",
    "\n",
    "vectorize = TfidfVectorizer(sublinear_tf=True, max_df =0.5)\n",
    "train = vectorize.fit_transform(final_data).toarray()"
   ]
  },
  {
   "cell_type": "code",
   "execution_count": 10,
   "metadata": {},
   "outputs": [
    {
     "data": {
      "text/plain": [
       "(55, 13259)"
      ]
     },
     "execution_count": 10,
     "metadata": {},
     "output_type": "execute_result"
    }
   ],
   "source": [
    "train.shape"
   ]
  },
  {
   "cell_type": "code",
   "execution_count": 11,
   "metadata": {
    "scrolled": true
   },
   "outputs": [
    {
     "data": {
      "text/plain": [
       "'bmj bmj 2017359j4323 doi 101136bmjj4323 1research comparative safety direct oral anticoagulants warfarin venous thromboembolism multicentre population based observational study min jun lisa m lix madeleine durand matt dahl j michael paterson colin r dormuth pierre ernst shenzhen yao christel renoux hala tamim cynthia wu salaheddin m mahmud brenda r hemmelgarn canadiork observational studies cnodes investigators abstract objective determine safety direct oral anticoagulant doac use compared warfarin use treatment venous thromboembolism design retrospective matched cohort study conducted january march setting community based healthcare data jurisdictions canada united states participants adults ac user warfarin users new diagnosis venous thromboembolism prescription doac warfarin days diagnosis main outcome measures outcomes included hospital admission emergency department visit major bleeding cause mortality dayser starting treatment propensity score matching shared frailty models estimate adjusted hazard ratios outcomes comparing doacs warfarin analyses conducted independently site metaanalytical methods estimate pooled hazard ratios sites results participad major bleed mean followup ofays risk major bleeding similar doac compared warfarin use pooled hazard ratio ce intervalo overall direction association favouring doac uerence risk death pooled hazard ro doacs compared warfarin use evidence heterogeneity centres patients chronic kidney disease age groups male female patients conclusions analysis adults incident venous thromboembolism treatment doacs compared warfarin associated increased risk major bleeding cause mortalityst days treatment trial registration clinical trials introduction venous thromboembolism condition includes deep venous thrombosis pulmonary embolism common annual incidence approximately case people common cause vascular related death myocardial infarction stroke venous thromboembolism associated considerable morbidity premature mortality warfarin primary oral anticoagulant treatment venous thromboembolism inherent limitations detract therapeutic utility narrow therapeutic index variability patients responses dependent range factors including diet concomitant drugs contrast direct oral anticoagulants doacs relatively stable pharmacokinetics remove need regular monitoring dose adjustment recent noninferiority trials assessing e cacy safety doacs compared warfarin treatment acute venous thromboembolism prevention recurrent venous thromboembolism shown comparable e cacy signi cantly increased risk major bleeding trials typically designed detences safety outcomes addition bleeding rates underestimated randomised trials patients history bleeding usually excluded population based comparative assessments safety doacs treatment venous thromboembolism lacking doacs increasingly clinical practice need exists better delineate safety real world population based data sources inform clinical practice numberedliations end article correspondence b hemmelgarn brendahemmelgarnahsca additional material published online view visit journal online cite bmj j httpdxdoi accepted septem kno wn topicnoninferiority randomised trials shown similacy reduced similar risk major bleeding complications direct oral anticoagulants doacs compared warfarin treatment venous thromboembolism clinical trials include highly selected patient group rate safety events major bleeding reported trialsen reflect observed routine clinical practice st udy addsthis large multicentre population based study suggests doac use associated higher major bleeding risk venous thromboembolism series sensitivity subgroup analyses ensured robustness study s showed consistentserent patient groups 31 2020 indiabmjpg sponsored protected copyrighthttpwwwbmjcombmj published 101136bmjj4323 17 october 2017 downloaded research 2 doi 101136bmjj4323 bmj 2017359j4323 bmj multicentre population based propensity score matched cohort adults incident venous thromboembolism assess safety major bleeding cause mortality doacs dabigatran apixaban rivaroxaban compared warfarin treatment incident venous thromboembolism methodsstudy design source population conducted retrospective propensity score matched cohort study healthcare data jurisdictions canadian provinces alberta manitoba ontario quebec saskatchewan united states marketscan according prespeci ed common protocol httpsclinicaltrials govct shownc cohort study cohort included adults agears ovears ontario newly dispensed doac apixaban dabigatran rivaroxaban warfarin jys end date available database site latest end date marc eligible inclusion new diagnosis venous thromboembolism ned diagnostic code venous thromboembolism days date rst prescription doac warfarin diagnosis ascertainment period nition venous thromboembolism included deep venous thrombosis pulmonary embolism identi ed venous thromboembolism events hospital admission emergency department andor physician claims databases icd international classi cation diseases diagnosis codes ca revisions shown supplementary table excluded patients previous diagnosis venous thromboembolism atrial brillation days rst venous thromboembolism diagnosis year information database date incident venous thromboembolism diagnosis prescription doac warfarin year cohort entry date doac warfarin prescribed date rst prescription ned cohort entry date rst prescription doac warfarin matched ve warfarin users doac user warfarin user serve match doac user matching based age cohort entry year sex date cohort entry year propensity score rg probability treated doac time cohort entry detailed considered exposure doac warfarin time xed variable study followup outc primary outcome time incident major bleed supplementary table list validated icd ca diagnosis codes ned rst hospital admission emergency department visit intracranial gastrointestinal bleeding days cohort entry algorithm major bleedinvity secondary outcome cause mortality days cohort entry followed participants cohort entry earliest major bleeding event death migration province canadian sites studys cohort entry primary analysis unable ascertain outcome mortality marketscan database information unavailable covariates information demographic characteristics comorbid conditions came healthcare data les included sites ned comorbid conditions priori basis previous research ned clinical expertise inpatient outpatient icd ca diagnosis codes based information availays cohort entry comorbid conditions included diabetes hypertension chronic kidney disease acute kidney injury history cardiovascular disease including ischaemic heart disease congestive heart failure cardiomyopathy valvular heart disease pacemaker brillator peripheral vascular disease cerebrovascular disease including transient ischaemic attack stroke subtypes chronic obstructive pulmonary disease liver disease cancer included history major bleeding hospital admission emergency department visit preys residence long term care sites identify antiplatelet agent nonsterory drug gastroprotective drug use ned dispensed prys cohort entry came prescription drug records statistical analysis developed multivariable logistic regression model included demographic information comorbid conditions listed prescription antiplatelet agents nonsteroidal ory drugs gastroprotective drugs estimate probability propensity treated doac conditional included covariates excluded patients end propensity score distribution matched ve warfarin users doac user replacement age cohort entry date sex cohort entry date propensity score based calliper width log odds propensity score assessed balance covariates doac warfarin exposure groups matching standarence expressed percentage absolute standardised mean ence implied acceptable balance 31 2020 indiabmjpg sponsored protected copyrighthttpwwwbmjcombmj published 101136bmjj4323 17 october 2017 downloaded research bmj bmj 2017359j4323 doi 101136bmjj4323 3we tted shared frailty model based matched cohort estimate hazard ratios study outcomes dence intervys cohort entry patients dispensed prescriptions doacs warfarin reference treatment model accounts clustering individuals matching process akin r survival model constructed separate models assess risk major bleeding cause mortality associated doac use compared warfarin use analyses conducted independently study site linked encoded data sas software secondary analyses secondary analyses assessed risk major bleeding associated doacs compared warfarin treatment incident venous thromboembolism according chronic kidney disease status ned basis validated algorithm icd ca e codes assessed risk major bleeding cause mortality outcomes associated doac use compared warfarin use strati ed age grearx sensitivity analyses sensitivity analyses rm robustness ndings repeated analyses venous thromboembolism diagnosis ascertainment period days excluding patients diagnosis venous thromboembolism atrial brillation durinys new venous thromboembolism diagnosis extended duration followys metaanalysis analyses conducted independently participating site according common analytical protocol pooled metaanalysis techniques xhich assumes variation studies estimate associated sampling error calculated inverse variance weighted pooled risk estimates dence intervals review manager software version analyses exclusion clinical practice research database andovince nova scotia speci ed study protocol sought include data uk based clinical practice research database cprd results mortality obtained cprd clearlent sites review literature venous thromboembolism mortality cprd determined mortality venous thromboembolism based cprd data substantially underestimated general practice electronic records excluded cprd data sought include data canadian province nova scotia owing small size matched cohor limited number major bleeding events observed doac warfarin exposure groups observed doac group subsequent nonconvergence models limited ability additional secondary sensitivity analyses excluded nova scotia analyses patient involvement study involved secondary use existing data sources include patients study participants patients involved setting research question study design overall conduct study plans involve patients dissemination study ndings results patients characteristics w ults agears new prescription doac n warfarin n diagnosis venous thromboembolism days prescription g included adults matched analyses doac users arfarin users overall matching balance achieved included covariates supplementary table b mean age matched cohor w sd yearsere female table doac users prescriptions dispensed rivaroxaban common doac proportion patients switched doacs warfarin warfarin doacs follow period w respectively incidence rates major bleeding cause mortality mean followys deaths occurrjor bleed whic ere intracranial gastrointestinal bleed respectively bleeding rates days ranged betwacs arfarin bleeding ratys ranged doacs warfarin hazard ratios major bleeding cause mortality overall risk major bleeding associated doac use patients incident venous thromboembolism similar warfarin use hazard ron dence interv g direction association favouring doacs observed evidence heterogeneity included sites p heterogeneity observed similar results outcome cause mortality hazard r p heterogg 31 2020 indiabmjpg sponsored protected copyrighthttpwwwbmjcombmj published 101136bmjj4323 17 october 2017 downloaded research 4 doi 101136bmjj4323 bmj 2017359j4323 bmj hazard ratios major bleeding cause mortality according chronic kidney disease status age groups sex signi heterogeneity risk major bleeding cause mortality associated doac use assessed patients according chronic kidney disease status g age supplementary gures b sex supplementary gure c sensitivity analysis overall results remained unchanged sensitivity analyses including longer period followup ys supplementary gures d e discussion multicentre population based propensity score matched cohort stud adults incident venous thromboembolism observed treatment doacs compared warfarin associated increased risk major bleeding cause mortality rys treatment similar results patients chronic kidney disease age groups men women implications comparison studies randomised trials assessing e cacy safety doac use compared vitamin k antagonists treatment venous thromboembolism shown favourable riskbene t pro les doac treatment observe lower risk major bleeding doac treatment study given tabaseline characteristics overall study population patients incident vte newly prescribed doacs warfarin matched unmatched propensity score values numbers percentages stated characteristics matched cohort unmatched cohort doacs n warfarin n doacs n warfarin n mean sd age years age group years female sex doac agent apixaban nana dabigatran nana rivaroxaban na naacute kidney injury chronic kidney disease diabetes hypertension previous health services encounter major bleeding cardiovascular disease peripheral vascular disease cerebrovascular disease chronic obstructive pulmonary disease liver disease cancer residence long term carepersonal care facility prescription drug use antiplatelet drug nonsteroidal antiinflammatory drug gastroprotective drug doacdirect oral anticoagulant nanot applicable vtevenous thromboembolism cells tables patient counts suppressed participating sites owing privacy restrictions sum count data thuslightly presented total mean sample size weighted age major bleeding d asst hospital admission emergency department visit intracranial gastrointestinal bleeding w chart ftudy cohort cells tables patient counts suppressed s participating sites owing privacy restrictions sum count data thuser slightly presented total 31 2020 indiabmjpg sponsored protected copyrighthttpwwwbmjcombmj published 101136bmjj4323 17 october 2017 downloaded research bmj bmj 2017359j4323 doi 101136bmjj4323 5the absence increased bleeding risk advantages associated use particularly frequency monitoring dosing results suggest doacs considered treatment option patients venous thromboembolism candidates anticoagulation recent systematic review assessing e cacy safety doacs treatment acute venous thromboembolism based data trials participants major bleeding events showed bleeding risks similar hazard ratio dabigatran versus w dence interveduced hazard ratio apixaban rivaroxaban versus warfarin espectively doac use compared warfarin study reportences risk cause mortality doac use large studies assessment safety doac treatment venous thromboembolism routine clinical practice limited relatively small cohort studies rivaroxaban reported similarly favourable safety pro les associated use patients venous thromboembolism addition recent cohort study enous thromboembolism patients comparing rivaroxaban user vitamin k antagonist users showed ence major bleeding risk hazard r studies limited small lack comparator inclusion cases major bleeding patients admitted hospital probably led underestimation bleeding rates study large population based cohort doac warfarin users major bleeding identi ed inhospital emergency department data sources important implications management patients venous thromboembolism risk having recurrent event doac use associated increased risk bleeding relation speci c subtypes bleeding episodes including gastrointestinal bleeding patient populations including atrial brillation systematic review trials including patients venous thromboembolism atrial brillation acute coronary syndrome received orthopaedic surgery showed overall risk gastrointestinal bleeding dence interveater patients treated doacs received standard care treatment warfarin low molecular weight heparin venous thromboembolism patients treatment doacs increased risk gastrointestinal bleedin compared standard care trials reported data patients venous thromboembolism results increased risk gastrointestinal bleeding associated doac use analysis safety doacs according chronic kidney disease status showed similar bleeding risks doac warfarin groups safety pro le doacs vary agent type depending percentage renal excretion systematic review assessing safety doacs patients estimated glomerular ltration rate mlmin showed magnitude relative reduction major bleeding doac use compared warfarin linearly associated percentage renal excretion agent greatest relative reduction major bleeding observed doacs renal excretion including rivaroxaban apixaban renal excretion dabigatran showed reduction risk major bleeding compared warfarin strengths limitations study study formally pooled results multiple healthcare settings contributing generalisability ndings addition assessed safety new doac warfarin use removes biases associated safety assessments prevalent drug use underestimation bleeding events study limitations despite achieved balance included range variables owing observational nature study ard ratios cis major bleeding associated direct oral anticoagulant doac use compared warfarin use reference category warfsers sevents cells suppressed ard ratios cis cause mortality associated direct oral anticoagulant doac use compared warfarin use reference category warfsers 31 2020 indiabmjpg sponsored protected copyrighthttpwwwbmjcombmj published 101136bmjj4323 17 october 2017 downloaded research 6 doi 101136bmjj4323 bmj 2017359j4323 bmj design possibility residual confounding arising frences unmeasured variables remains assessed study outcomes ys longer term safety doac treatment venous thromboembolism certain furthermorac users study rivaroxaban unable assess safety doacs venous thromboembolism ent doac agents future studies assessing safety doac agents treatment venous thromboembolism including apixaban dabigatran needed warfarin users major bleeding event owing limited availability international normalised ratio measurements study cohort unable determine time therapeutic range adjust counter use aspirin non sterory drugs algorithm treated venous thromboembolism allow assessment according deep venous thrombosis pulmonary embolism status wentiate distal proximal venous thromboembolism subsegmental proximal pulmonary embolism given inclusion oral anticoagulation venous thromboembolism algorithm events included study associated treatment indication duration doac warfarin use assessed given short length followys incident nature venous thromboembolism diagnosis guideline recommended treatment venous thrys substantial misclassi cation drug exposure unlikely potential exists misclassi cation chronic kidney disease status based icd codes high speci city alg suggest small number chronic kidney disease patients misclassi ed minimal nonetheless given use administrative codes limited ability ascertain ential association major bleeding risk doac use exists according level kidney function additional studies needed elucidate safety doacs venous thromboembolism patients advanced chronic kidney disease matching replacement warfarin users maximise number doac users retained cohort results lack independence warfarin users sensitivity analyses showed ecision study ndings finally rombinin estimates selected instead xed ariation es attributed study study variation selection result slightly larger dence intervals conservative test selection r onclusions regards statistical signi cance conclusions analysis data large cohorts adults incident venous thromboembolism treatment doacs compared warfarin associated increased risk major bleeding cause mortality rys treatment results consistent patients chronic kidney disease age groups men women author affiliations departments medicine community health sciences university calgary ab canada george institute global health sydney nsw australia faculty medicine unsw sydney nsw australia department community health sciences university manitoba mb canada department internal medicine university montreal health centre montreal qc canada manitoba centre health policy department community health sciences university manitoba winnipeg mb canada department family medicine mcmaster university hamilton canada institute clinical evaluative sciences toronto canada ard ratios cis major bleeding cause mortality associated doac use compared warfarin use according chronic kidney disease ckd status reference category warfarin users sevents cells suppressed sites included analysis owing small number doac users having ckd manitoba saskatchewan small number events observed doac warfarin groups including zero events doac group 31 2020 indiabmjpg sponsored protected copyrighthttpwwwbmjcombmj published 101136bmjj4323 17 october 2017 downloaded research bmj bmj 2017359j4323 doi 101136bmjj4323 7institute health policy management evaluation university toronto toronto department anesthesiology pharmacology therapeutics university british columbia vancouver bc canada center clinical epidemiology lady davis research institute jewish general hospital montreal qc canada department medicine mcgill university montreal qc canada college pharmacy nutrition department pharmacy university saskatchewan sk canada department neurology neurosurgery mcgill university montr al qc canada department epidemiology biostatistics mcgill university montr al qc canada school kinesiology health science york university toronto canada department community health epidemiology dalhousie university halifax ns canada department medicine university alberta edmonton ab canada department community health sciences university manitoba winnipeg mb canada canadian network observationalect studies cnodes investigators samy suissa principal investigator colin r dormuth british columbia brenda r hemmelgarn alberta gary f teare saskatchewan patricia caetano dan chateau manitoba david henry j michael paterson ontario jacques lelorier qu bec adrian r levy atlantic ns nl nb pei pierre ernst kristian b filion uk cprd robert w platt methods ingrid s sketris knowledge translation acknowledge contributions alexis matteau quebec programming support zhihai ma jianguo zhang alberta sophie dell aniello cprd yan wang nova scotia caixia fangyun wu ontario thierry ducruet quebec nianping hu saskatchewan gregory carney marketscan acknowledge important contributions cnodes collaborators assistants site study possible data sharing agreements cnodes member research centres respective provincial governments alberta manitoba hipc va scotia ontario quebec saskatchewan opinions results conclusions reported paper authors endorsement provinces intended inferred parts material based data information compiled provided canadian institute health information cihi analyses conclusions opinions statements expressed authors necessarily cihi contributors mj lml mdurand mdahl mjp crd pe sy ht smm brh responsible study concept design data collection analysis interpretation manuscript preparation mj brh dr initial manuscript authors contributed data interpretation critical revision report brh guarantor funding mj supported postdoctoral fellowships canadian institutes health research cihr alberta innovates health solutions aihs early career fellowship national health medical research council australia nhmrc mdurand supported salary award fonds rechercbecsant brh supported roy vi baay chair kidney research lml supported manitoba research chair cnodes collaborating centre drug safety andveness network dsen funded cihr grant number dsethe funding organisations role design conduct study collection analysis interpretation data preparation review approval manuscript competing interests authors completed icmje uniform disclosure form wwwicmjeorgcoidisclosurepdf available request corresponding author declare support submitted work described cw received honorariums advisory board meetings speaking engagements leo pharma ander makers tinzaparin dalteparin respectively smm received research grants work unrelated project glaxosmithkline mercer relationships activities appear influenced submitted work ethical approval study protocol approved institutional review boards participating sites independent sc advisory committee isac protocol number cprd study protocol registered www clinicaltrialsgovthe data anonymous requirement informed consent waived data sharing additional data available transparency lead manuscript honest accurate transparent account study reported important aspects study omitted discrepancies study planned relevant registered explained open access article distributed accordance creative commons attribution non commercial cc byncense permits distribute remix adapt build work noncommercially license derivative works terms provided original work properly cited use non commercial httpcreativecommonsorglicensesby epidemiology venous thromboembolism circulation uppl c ksr morrio al interventions implementation thromboprophylaxis hospitalized medical surgical patients risk venous thromboembolism cochrane database syst rev hawkins limitations traditional anticoagulants pharmacotherapy phco gonsalvesatnaikthe new oral anticoagulants clinical practice mayo clin proc jmayocp agnelullo et al amplify investigators oral apixaban treatment acute venous thromboembolism n engl j med bauersachsowitzs al einstein investigators oral rivaroxaban symptomatic venous thromboembolism n engl j med schulms kearakk al recover study group dabigatran versus warfarin treatment acute venous thromboembolism n engl j med nejmo b llssw et al einstein pe investigators oral rivaroxaban treatment symptomatic pulmonary embolism n engl j med wansv frankschneeweisss eddingsw g prediction rates thromboembolic major bleeding outcomes dabigatran warfarin patients atrialbrillation new initiator cohort study bmj alotaibwlselv mcmurtrys validity icd codes coupled imaging procedure codes identifying acute venous thromboembolism administrative data vasc med lipwantf gw caroving accuracy international classation diseases codes venous thromboembolism administrative data thromb res thromre tamarizinstv systematic review validated methods identifying venous thromboembolism administrative claims data pharmacoepidemiol drug saf uppl s arnat wellss van walraforsaccuracy coding possible warfarin complications hospital discharge abstracts thromb res thromre gomest mamdlbrookaterlings juurlinkates hemorrhage warfarin therapy atrial brillation cmaj maj mz et al alberta kidney disease network warfarin initiation atrialbrillation kidney function comparative veness safety warfarin older adults newly diagnosed atrialbrillation j kidney dis ausroduction propensity score methods reducing confounding observational studies multivariate behav res hougaard analysis multivariate survival data springer fleetxsn shsz et al detecting chronic kidney disease populationbased administrative databases algorithm hospital encounter physician claim codes bmc nephrol 31 2020 indiabmjpg sponsored protected copyrighthttpwwwbmjcombmj published 101136bmjj4323 17 october 2017 downloaded'"
      ]
     },
     "execution_count": 11,
     "metadata": {},
     "output_type": "execute_result"
    }
   ],
   "source": [
    "final_data[0]"
   ]
  },
  {
   "cell_type": "code",
   "execution_count": 12,
   "metadata": {},
   "outputs": [],
   "source": [
    "classifiers = [\n",
    "    KNeighborsClassifier(3),\n",
    "#     SVC(kernel=\"rbf\", C=0.025, probability=True),\n",
    "    \n",
    "    DecisionTreeClassifier(),\n",
    "    RandomForestClassifier(),\n",
    "    #AdaBoostClassifier(),\n",
    "    \n",
    "    GradientBoostingClassifier(),\n",
    "    GaussianNB(),\n",
    "    LinearDiscriminantAnalysis(),\n",
    "    \n",
    "#     QuadraticDiscriminantAnalysis(),\n",
    "    LogisticRegression(solver='lbfgs'),\n",
    "    LinearSVC(C=1.0)\n",
    "#     MLPClassifier(alpha = 1)\n",
    "]"
   ]
  },
  {
   "cell_type": "code",
   "execution_count": 13,
   "metadata": {},
   "outputs": [],
   "source": [
    "# pickle file names\n",
    "Pickle_filename = [\n",
    "    'pickle_files/KNeighborsClassifier.pkl',\n",
    "#     'pickle_files/SVC.pkl',\n",
    "    \n",
    "    'pickle_files/DecisionTreeClassifier.pkl',\n",
    "    'pickle_files/RandomForestClassifier.pkl',\n",
    "    #'pickle_files/AdaBoostClassifier.pkl',\n",
    "    \n",
    "    'pickle_files/GradientBoostingClassifier.pkl',\n",
    "    'pickle_files/GaussianNB.pkl',\n",
    "    'pickle_files/LinearDiscriminantAnalysis.pkl',\n",
    "    \n",
    "#     'pickle_files/QuadraticDiscriminantAnalysis.pkl',\n",
    "    'pickle_files/LogisticRegression.pkl',\n",
    "    'pickle_files/LinearSVC.pkl'\n",
    "#     'pickle_files/MLPClassifier.pkl'\n",
    "]"
   ]
  },
  {
   "cell_type": "code",
   "execution_count": 14,
   "metadata": {
    "scrolled": false
   },
   "outputs": [
    {
     "name": "stdout",
     "output_type": "stream",
     "text": [
      "==============================\n",
      "KNeighborsClassifier(algorithm='auto', leaf_size=30, metric='minkowski',\n",
      "                     metric_params=None, n_jobs=None, n_neighbors=3, p=2,\n",
      "                     weights='uniform')\n",
      "*Results*\n",
      "Accuracy: 9.0909%\n",
      "==============================\n",
      "DecisionTreeClassifier(ccp_alpha=0.0, class_weight=None, criterion='gini',\n",
      "                       max_depth=None, max_features=None, max_leaf_nodes=None,\n",
      "                       min_impurity_decrease=0.0, min_impurity_split=None,\n",
      "                       min_samples_leaf=1, min_samples_split=2,\n",
      "                       min_weight_fraction_leaf=0.0, presort='deprecated',\n",
      "                       random_state=None, splitter='best')\n",
      "*Results*\n",
      "Accuracy: 18.1818%\n",
      "==============================\n",
      "RandomForestClassifier(bootstrap=True, ccp_alpha=0.0, class_weight=None,\n",
      "                       criterion='gini', max_depth=None, max_features='auto',\n",
      "                       max_leaf_nodes=None, max_samples=None,\n",
      "                       min_impurity_decrease=0.0, min_impurity_split=None,\n",
      "                       min_samples_leaf=1, min_samples_split=2,\n",
      "                       min_weight_fraction_leaf=0.0, n_estimators=100,\n",
      "                       n_jobs=None, oob_score=False, random_state=None,\n",
      "                       verbose=0, warm_start=False)\n",
      "*Results*\n",
      "Accuracy: 18.1818%\n",
      "==============================\n",
      "GradientBoostingClassifier(ccp_alpha=0.0, criterion='friedman_mse', init=None,\n",
      "                           learning_rate=0.1, loss='deviance', max_depth=3,\n",
      "                           max_features=None, max_leaf_nodes=None,\n",
      "                           min_impurity_decrease=0.0, min_impurity_split=None,\n",
      "                           min_samples_leaf=1, min_samples_split=2,\n",
      "                           min_weight_fraction_leaf=0.0, n_estimators=100,\n",
      "                           n_iter_no_change=None, presort='deprecated',\n",
      "                           random_state=None, subsample=1.0, tol=0.0001,\n",
      "                           validation_fraction=0.1, verbose=0,\n",
      "                           warm_start=False)\n",
      "*Results*\n",
      "Accuracy: 27.2727%\n",
      "==============================\n",
      "GaussianNB(priors=None, var_smoothing=1e-09)\n",
      "*Results*\n",
      "Accuracy: 18.1818%\n",
      "==============================\n",
      "LinearDiscriminantAnalysis(n_components=None, priors=None, shrinkage=None,\n",
      "                           solver='svd', store_covariance=False, tol=0.0001)\n",
      "*Results*\n",
      "Accuracy: 9.0909%\n",
      "==============================\n",
      "LogisticRegression(C=1.0, class_weight=None, dual=False, fit_intercept=True,\n",
      "                   intercept_scaling=1, l1_ratio=None, max_iter=100,\n",
      "                   multi_class='auto', n_jobs=None, penalty='l2',\n",
      "                   random_state=None, solver='lbfgs', tol=0.0001, verbose=0,\n",
      "                   warm_start=False)\n",
      "*Results*\n",
      "Accuracy: 9.0909%\n",
      "==============================\n",
      "LinearSVC(C=1.0, class_weight=None, dual=True, fit_intercept=True,\n",
      "          intercept_scaling=1, loss='squared_hinge', max_iter=1000,\n",
      "          multi_class='ovr', penalty='l2', random_state=None, tol=0.0001,\n",
      "          verbose=0)\n",
      "*Results*\n",
      "Accuracy: 18.1818%\n",
      "==============================\n"
     ]
    }
   ],
   "source": [
    "# test and train split\n",
    "X_train, X_test, y_train, y_test = train_test_split( train, labels, test_size=0.2, random_state=42)\n",
    "i=0\n",
    "for clf in classifiers:\n",
    "    clf.fit(X_train, y_train)\n",
    "    #pkl.dump(clf, open(Pickle_filename[i], 'wb')) # generating a pickle file\n",
    "    i=i+1\n",
    "    \n",
    "    name = clf\n",
    "    \n",
    "    print(\"=\"*30)\n",
    "    print(name)\n",
    "    \n",
    "    print('*Results*')\n",
    "    train_predictions = clf.predict(X_test)\n",
    "    acc = accuracy_score(y_test, train_predictions)\n",
    "    print(\"Accuracy: {:.4%}\".format(acc))\n",
    "    \n",
    "print(\"=\"*30)"
   ]
  },
  {
   "cell_type": "code",
   "execution_count": null,
   "metadata": {},
   "outputs": [],
   "source": []
  },
  {
   "cell_type": "code",
   "execution_count": null,
   "metadata": {},
   "outputs": [],
   "source": []
  },
  {
   "cell_type": "code",
   "execution_count": null,
   "metadata": {},
   "outputs": [],
   "source": []
  },
  {
   "cell_type": "code",
   "execution_count": null,
   "metadata": {},
   "outputs": [],
   "source": []
  },
  {
   "cell_type": "code",
   "execution_count": null,
   "metadata": {},
   "outputs": [],
   "source": []
  },
  {
   "cell_type": "code",
   "execution_count": null,
   "metadata": {},
   "outputs": [],
   "source": []
  }
 ],
 "metadata": {
  "kernelspec": {
   "display_name": "Python 3",
   "language": "python",
   "name": "python3"
  },
  "language_info": {
   "codemirror_mode": {
    "name": "ipython",
    "version": 3
   },
   "file_extension": ".py",
   "mimetype": "text/x-python",
   "name": "python",
   "nbconvert_exporter": "python",
   "pygments_lexer": "ipython3",
   "version": "3.7.3"
  }
 },
 "nbformat": 4,
 "nbformat_minor": 2
}
